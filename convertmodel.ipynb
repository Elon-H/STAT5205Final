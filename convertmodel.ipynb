{
 "cells": [
  {
   "cell_type": "code",
   "execution_count": 1,
   "id": "70bb1c7b-65e4-4545-829e-3890b6f4c554",
   "metadata": {},
   "outputs": [
    {
     "name": "stderr",
     "output_type": "stream",
     "text": [
      "/usr/local/lib/python3.8/dist-packages/tqdm/auto.py:21: TqdmWarning: IProgress not found. Please update jupyter and ipywidgets. See https://ipywidgets.readthedocs.io/en/stable/user_install.html\n",
      "  from .autonotebook import tqdm as notebook_tqdm\n"
     ]
    },
    {
     "name": "stdout",
     "output_type": "stream",
     "text": [
      "PyTorch version: 1.11.0a0+gitbc2c6ed\n",
      "\n",
      "Available devices:\n",
      "CUDA is available!\n",
      "Number of CUDA devices: 1\n",
      "Device 0: NVIDIA Tegra X1\n",
      "\n",
      "Current CUDA device: 0\n",
      "Current device name: NVIDIA Tegra X1\n"
     ]
    }
   ],
   "source": [
    "import torch\n",
    "\n",
    "def check_devices():\n",
    "    print(\"PyTorch version:\", torch.__version__)\n",
    "    print(\"\\nAvailable devices:\")\n",
    "    if torch.cuda.is_available():\n",
    "        print(\"CUDA is available!\")\n",
    "        print(\"Number of CUDA devices:\", torch.cuda.device_count())\n",
    "        for i in range(torch.cuda.device_count()):\n",
    "            print(f\"Device {i}: {torch.cuda.get_device_name(i)}\")\n",
    "        print(\"\\nCurrent CUDA device:\", torch.cuda.current_device())\n",
    "        print(\"Current device name:\", torch.cuda.get_device_name(torch.cuda.current_device()))\n",
    "    else:\n",
    "        print(\"CUDA is not available. Using CPU.\")\n",
    "\n",
    "if __name__ == \"__main__\":\n",
    "    check_devices() "
   ]
  },
  {
   "cell_type": "code",
   "execution_count": null,
   "id": "8bc1f628-0277-4e33-afa5-d998cfb6a9d6",
   "metadata": {},
   "outputs": [
    {
     "name": "stdout",
     "output_type": "stream",
     "text": [
      "\u001b[34m\u001b[1mexport: \u001b[0mdata=data/coco128.yaml, weights=['best.pt'], imgsz=[640, 640], batch_size=1, device=0, half=True, inplace=False, keras=False, optimize=False, int8=False, per_tensor=False, dynamic=False, cache=, simplify=False, mlmodel=False, opset=12, verbose=True, workspace=1, nms=False, agnostic_nms=False, topk_per_class=100, topk_all=100, iou_thres=0.45, conf_thres=0.25, include=['engine']\n",
      "YOLOv5 🚀 ee6107e Python-3.8.0 torch-1.11.0a0+gitbc2c6ed CUDA:0 (NVIDIA Tegra X1, 1980MiB)\n",
      "\n",
      "Fusing layers... \n"
     ]
    }
   ],
   "source": [
    "!python3.8 export.py --weights best.pt --include engine --half --workspace 1 --verbose --opset 12 --device 0"
   ]
  },
  {
   "cell_type": "code",
   "execution_count": 8,
   "id": "9474316c-f6a2-4fb0-9b37-2df04357bbaf",
   "metadata": {},
   "outputs": [
    {
     "name": "stdout",
     "output_type": "stream",
     "text": [
      "Loading engine from best.engine\n",
      "Engine loaded successfully!\n",
      "Number of bindings: 3\n",
      "Binding 0: images, Shape: (1, 3, 640, 640), Dtype: DataType.HALF\n",
      "Binding 1: output1, Shape: (1, 32, 160, 160), Dtype: DataType.HALF\n",
      "Binding 2: output0, Shape: (1, 25200, 40), Dtype: DataType.HALF\n"
     ]
    }
   ],
   "source": [
    "import tensorrt as trt\n",
    "import numpy as np\n",
    "import cv2\n",
    "import time\n",
    "\n",
    "def load_engine(engine_path):\n",
    "    TRT_LOGGER = trt.Logger(trt.Logger.WARNING)\n",
    "    with open(engine_path, 'rb') as f, trt.Runtime(TRT_LOGGER) as runtime:\n",
    "        return runtime.deserialize_cuda_engine(f.read())\n",
    "\n",
    "def main():\n",
    "    # 加载 engine 文件\n",
    "    engine_path = 'best.engine'\n",
    "    print(f\"Loading engine from {engine_path}\")\n",
    "    engine = load_engine(engine_path)\n",
    "    \n",
    "    if engine is None:\n",
    "        print(\"Failed to load engine!\")\n",
    "        return\n",
    "    \n",
    "    print(\"Engine loaded successfully!\")\n",
    "    print(f\"Number of bindings: {engine.num_bindings}\")\n",
    "    \n",
    "    # 打印输入输出信息\n",
    "    for i in range(engine.num_bindings):\n",
    "        name = engine.get_binding_name(i)\n",
    "        shape = engine.get_binding_shape(i)\n",
    "        dtype = engine.get_binding_dtype(i)\n",
    "        print(f\"Binding {i}: {name}, Shape: {shape}, Dtype: {dtype}\")\n",
    "\n",
    "if __name__ == \"__main__\":\n",
    "    main() "
   ]
  },
  {
   "cell_type": "code",
   "execution_count": null,
   "id": "9dd5fe99-47b3-4883-b51f-2b65db528658",
   "metadata": {},
   "outputs": [],
   "source": []
  }
 ],
 "metadata": {
  "kernelspec": {
   "display_name": "Python 3 (ipykernel)",
   "language": "python",
   "name": "python3"
  },
  "language_info": {
   "codemirror_mode": {
    "name": "ipython",
    "version": 3
   },
   "file_extension": ".py",
   "mimetype": "text/x-python",
   "name": "python",
   "nbconvert_exporter": "python",
   "pygments_lexer": "ipython3",
   "version": "3.8.0"
  }
 },
 "nbformat": 4,
 "nbformat_minor": 5
}
