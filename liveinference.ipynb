{
 "cells": [
  {
   "cell_type": "code",
   "execution_count": 1,
   "id": "56b45429-2a46-4271-9ee6-68c6e880456b",
   "metadata": {},
   "outputs": [
    {
     "name": "stdout",
     "output_type": "stream",
     "text": [
      "1.23.5\n"
     ]
    }
   ],
   "source": [
    "import numpy\n",
    "print(numpy.__version__)"
   ]
  },
  {
   "cell_type": "code",
   "execution_count": 4,
   "id": "d2263635-4efd-493d-af8a-d9c4958152f2",
   "metadata": {},
   "outputs": [
    {
     "name": "stdout",
     "output_type": "stream",
     "text": [
      "Collecting numpy==1.23.5\n",
      "  Downloading numpy-1.23.5-cp38-cp38-manylinux_2_17_aarch64.manylinux2014_aarch64.whl.metadata (2.3 kB)\n",
      "Downloading numpy-1.23.5-cp38-cp38-manylinux_2_17_aarch64.manylinux2014_aarch64.whl (14.0 MB)\n",
      "\u001b[2K   \u001b[90m━━━━━━━━━━━━━━━━━━━━━━━━━━━━━━━━━━━━━━━━\u001b[0m \u001b[32m14.0/14.0 MB\u001b[0m \u001b[31m14.4 MB/s\u001b[0m eta \u001b[36m0:00:00\u001b[0m00:01\u001b[0m0:01\u001b[0m\n",
      "\u001b[?25hInstalling collected packages: numpy\n",
      "  Attempting uninstall: numpy\n",
      "    Found existing installation: numpy 1.24.4\n",
      "    Uninstalling numpy-1.24.4:\n",
      "      Successfully uninstalled numpy-1.24.4\n",
      "\u001b[31mERROR: pip's dependency resolver does not currently take into account all the packages that are installed. This behaviour is the source of the following dependency conflicts.\n",
      "tensorflowjs 3.18.0 requires packaging~=20.9, but you have packaging 25.0 which is incompatible.\u001b[0m\u001b[31m\n",
      "\u001b[0mSuccessfully installed numpy-1.23.5\n",
      "\u001b[33mWARNING: Running pip as the 'root' user can result in broken permissions and conflicting behaviour with the system package manager, possibly rendering your system unusable. It is recommended to use a virtual environment instead: https://pip.pypa.io/warnings/venv. Use the --root-user-action option if you know what you are doing and want to suppress this warning.\u001b[0m\u001b[33m\n",
      "\u001b[0m"
     ]
    }
   ],
   "source": [
    "!python3.8 -m pip install numpy==1.23.5"
   ]
  },
  {
   "cell_type": "code",
   "execution_count": 4,
   "id": "2b7e81c8-ac11-4855-92d6-f0f2a97a377e",
   "metadata": {},
   "outputs": [],
   "source": [
    "import io\n",
    "from PIL import Image\n",
    "import IPython"
   ]
  },
  {
   "cell_type": "code",
   "execution_count": 9,
   "id": "896bf2e3-0a78-4762-94e2-4386a1b91355",
   "metadata": {},
   "outputs": [
    {
     "name": "stdout",
     "output_type": "stream",
     "text": [
      "crw-rw---- 1 root video 81, 0 May 12 20:05 /dev/video0\n"
     ]
    }
   ],
   "source": [
    "!ls -ltrh /dev/video*"
   ]
  },
  {
   "cell_type": "code",
   "execution_count": 5,
   "id": "e15f5cca-7e73-4f04-8c13-4e4f22333eeb",
   "metadata": {},
   "outputs": [
    {
     "name": "stdout",
     "output_type": "stream",
     "text": [
      "\u001b[34m\u001b[1msegment/predict: \u001b[0mweights=['best.engine'], source=0, data=dataset/data.yaml, imgsz=[640, 640], conf_thres=0.25, iou_thres=0.45, max_det=1000, device=0, view_img=True, save_txt=False, save_conf=False, save_crop=False, nosave=False, classes=None, agnostic_nms=False, augment=False, visualize=False, update=False, project=runs/predict-seg, name=exp, exist_ok=False, line_thickness=3, hide_labels=False, hide_conf=False, half=True, dnn=False, vid_stride=1, retina_masks=False\n",
      "YOLOv5 🚀 fc8e85b Python-3.8.0 torch-1.11.0a0+gitbc2c6ed CUDA:0 (NVIDIA Tegra X1, 1980MiB)\n",
      "\n",
      "Loading best.engine for TensorRT inference...\n",
      "[05/12/2025-20:26:19] [TRT] [I] [MemUsageChange] Init CUDA: CPU +230, GPU +0, now: CPU 325, GPU 1925 (MiB)\n",
      "[05/12/2025-20:26:19] [TRT] [I] Loaded engine size: 7 MiB\n",
      "[05/12/2025-20:26:22] [TRT] [I] [MemUsageChange] Init cuBLAS/cuBLASLt: CPU +158, GPU -8, now: CPU 497, GPU 1933 (MiB)\n",
      "[05/12/2025-20:26:25] [TRT] [I] [MemUsageChange] Init cuDNN: CPU +240, GPU -3, now: CPU 737, GPU 1930 (MiB)\n",
      "[05/12/2025-20:26:25] [TRT] [I] [MemUsageChange] TensorRT-managed allocation in engine deserialization: CPU +0, GPU +6, now: CPU 0, GPU 6 (MiB)\n",
      "[05/12/2025-20:26:25] [TRT] [I] [MemUsageChange] Init cuBLAS/cuBLASLt: CPU +0, GPU +0, now: CPU 730, GPU 1932 (MiB)\n",
      "[05/12/2025-20:26:25] [TRT] [I] [MemUsageChange] Init cuDNN: CPU +0, GPU +1, now: CPU 730, GPU 1933 (MiB)\n",
      "[05/12/2025-20:26:26] [TRT] [I] [MemUsageChange] TensorRT-managed allocation in IExecutionContext creation: CPU +0, GPU +17, now: CPU 0, GPU 23 (MiB)\n",
      "WARNING ⚠️ Environment does not support cv2.imshow() or PIL Image.show()\n",
      "\n",
      "1/1: 0...  Success (inf frames 640x480 at 30.00 FPS)\n",
      "\n",
      "WARNING ⚠️ NMS time limit 0.550s exceeded\n",
      "0: 640x640 1 walkable_area, 1 obstacle, 635.3ms\n",
      "WARNING ⚠️ NMS time limit 0.550s exceeded\n",
      "0: 640x640 1 walkable_area, 1 obstacle, 980.0ms\n",
      "0: 640x640 1 walkable_area, 1 obstacle, 690.4ms\n",
      "0: 640x640 1 walkable_area, 1 obstacle, 87.5ms\n",
      "0: 640x640 1 walkable_area, 1 obstacle, 91.8ms\n",
      "0: 640x640 1 walkable_area, 1 obstacle, 92.2ms\n",
      "0: 640x640 1 walkable_area, 1 obstacle, 92.7ms\n",
      "0: 640x640 1 walkable_area, 1 obstacle, 91.5ms\n",
      "0: 640x640 1 walkable_area, 1 obstacle, 107.2ms\n",
      "0: 640x640 1 walkable_area, 1 obstacle, 112.4ms\n",
      "0: 640x640 1 walkable_area, 1 obstacle, 108.3ms\n",
      "0: 640x640 1 walkable_area, 1 obstacle, 107.0ms\n",
      "0: 640x640 1 walkable_area, 1 obstacle, 103.7ms\n",
      "0: 640x640 1 walkable_area, 1 obstacle, 104.5ms\n",
      "0: 640x640 1 walkable_area, 1 obstacle, 101.7ms\n",
      "0: 640x640 1 walkable_area, 1 obstacle, 98.3ms\n",
      "0: 640x640 1 walkable_area, 1 obstacle, 114.7ms\n",
      "0: 640x640 1 walkable_area, 1 obstacle, 117.5ms\n",
      "0: 640x640 1 walkable_area, 1 obstacle, 125.2ms\n",
      "0: 640x640 3 obstacles, 125.5ms\n",
      "0: 640x640 1 walkable_area, 1 obstacle, 127.5ms\n",
      "0: 640x640 1 walkable_area, 1 obstacle, 133.0ms\n",
      "0: 640x640 1 obstacle, 118.4ms\n",
      "0: 640x640 1 obstacle, 116.7ms\n",
      "0: 640x640 1 obstacle, 104.6ms\n",
      "0: 640x640 1 obstacle, 103.8ms\n",
      "0: 640x640 1 obstacle, 116.2ms\n",
      "0: 640x640 1 obstacle, 120.7ms\n",
      "0: 640x640 (no detections), 120.3ms\n",
      "0: 640x640 1 obstacle, 1 human, 100.9ms\n",
      "0: 640x640 1 walkable_area, 2 obstacles, 109.7ms\n",
      "0: 640x640 (no detections), 105.1ms\n",
      "0: 640x640 1 human, 106.3ms\n",
      "0: 640x640 1 walkable_area, 1 obstacle, 1 human, 102.8ms\n",
      "0: 640x640 1 human, 103.6ms\n",
      "0: 640x640 1 walkable_area, 2 humans, 103.5ms\n",
      "0: 640x640 1 human, 103.0ms\n",
      "0: 640x640 1 walkable_area, 2 humans, 102.9ms\n",
      "0: 640x640 1 walkable_area, 1 human, 101.0ms\n",
      "0: 640x640 1 obstacle, 1 human, 103.1ms\n",
      "0: 640x640 1 walkable_area, 100.6ms\n",
      "0: 640x640 1 walkable_area, 118.4ms\n",
      "0: 640x640 1 obstacle, 108.2ms\n",
      "0: 640x640 1 human, 102.3ms\n",
      "0: 640x640 1 human, 103.7ms\n",
      "0: 640x640 1 walkable_area, 103.3ms\n",
      "0: 640x640 1 walkable_area, 100.2ms\n",
      "0: 640x640 1 walkable_area, 1 human, 103.4ms\n",
      "0: 640x640 1 obstacle, 100.6ms\n",
      "0: 640x640 1 walkable_area, 1 obstacle, 102.2ms\n",
      "0: 640x640 1 human, 87.8ms\n",
      "0: 640x640 1 walkable_area, 83.5ms\n",
      "0: 640x640 1 walkable_area, 84.3ms\n",
      "0: 640x640 1 walkable_area, 83.8ms\n",
      "0: 640x640 1 walkable_area, 85.3ms\n",
      "0: 640x640 1 obstacle, 1 human, 85.7ms\n",
      "0: 640x640 1 human, 85.8ms\n",
      "0: 640x640 1 obstacle, 85.8ms\n",
      "0: 640x640 1 obstacle, 85.2ms\n",
      "0: 640x640 1 obstacle, 1 human, 83.7ms\n",
      "0: 640x640 1 obstacle, 86.3ms\n",
      "0: 640x640 1 obstacle, 85.8ms\n",
      "0: 640x640 2 obstacles, 86.7ms\n",
      "0: 640x640 1 obstacle, 85.5ms\n",
      "0: 640x640 1 obstacle, 1 human, 96.9ms\n",
      "0: 640x640 1 walkable_area, 102.7ms\n",
      "0: 640x640 2 humans, 100.6ms\n",
      "0: 640x640 1 obstacle, 103.7ms\n",
      "0: 640x640 1 obstacle, 1 human, 99.3ms\n",
      "0: 640x640 1 walkable_area, 103.1ms\n",
      "0: 640x640 1 obstacle, 1 human, 99.3ms\n",
      "0: 640x640 1 walkable_area, 103.2ms\n",
      "0: 640x640 1 walkable_area, 1 obstacle, 99.6ms\n",
      "0: 640x640 1 walkable_area, 103.4ms\n",
      "0: 640x640 1 walkable_area, 100.2ms\n",
      "0: 640x640 1 walkable_area, 2 obstacles, 100.7ms\n",
      "0: 640x640 1 walkable_area, 1 obstacle, 96.9ms\n",
      "0: 640x640 1 walkable_area, 1 obstacle, 93.1ms\n",
      "0: 640x640 1 walkable_area, 1 obstacle, 1 human, 97.2ms\n",
      "0: 640x640 1 walkable_area, 1 obstacle, 1 human, 93.4ms\n",
      "0: 640x640 1 walkable_area, 94.0ms\n",
      "0: 640x640 1 walkable_area, 96.2ms\n",
      "0: 640x640 1 walkable_area, 90.7ms\n",
      "0: 640x640 1 walkable_area, 1 obstacle, 91.2ms\n",
      "0: 640x640 1 walkable_area, 3 obstacles, 93.5ms\n",
      "0: 640x640 1 obstacle, 1 human, 94.5ms\n",
      "0: 640x640 1 walkable_area, 1 obstacle, 1 human, 89.5ms\n",
      "0: 640x640 1 walkable_area, 1 human, 93.0ms\n",
      "0: 640x640 1 walkable_area, 2 obstacles, 1 human, 104.4ms\n",
      "0: 640x640 1 walkable_area, 1 obstacle, 1 human, 115.2ms\n",
      "0: 640x640 1 walkable_area, 1 human, 109.9ms\n",
      "0: 640x640 1 walkable_area, 1 obstacle, 1 human, 100.8ms\n",
      "0: 640x640 1 walkable_area, 1 obstacle, 1 human, 107.9ms\n",
      "^C\n",
      "Traceback (most recent call last):\n",
      "  File \"segment/predict.py\", line 323, in <module>\n",
      "    main(opt)\n",
      "  File \"segment/predict.py\", line 318, in main\n",
      "    run(**vars(opt))\n",
      "  File \"/usr/local/lib/python3.8/dist-packages/torch/autograd/grad_mode.py\", line 27, in decorate_context\n",
      "    return func(*args, **kwargs)\n",
      "  File \"segment/predict.py\", line 156, in run\n",
      "    pred, proto = model(im, augment=augment, visualize=visualize)[:2]\n",
      "  File \"/usr/local/lib/python3.8/dist-packages/torch/nn/modules/module.py\", line 1110, in _call_impl\n"
     ]
    }
   ],
   "source": [
    "!python3.8 segment/predict.py \\\n",
    "    --weights best.engine \\\n",
    "    --source 0 \\\n",
    "    --data dataset/data.yaml \\\n",
    "    --device 0 \\\n",
    "    --view-img \\\n",
    "    --conf-thres 0.25 \\\n",
    "    --iou-thres 0.45 \\\n",
    "    --half"
   ]
  },
  {
   "cell_type": "code",
   "execution_count": null,
   "id": "062d2399-b029-4e09-9a13-8a42caf5cfa4",
   "metadata": {},
   "outputs": [],
   "source": []
  }
 ],
 "metadata": {
  "kernelspec": {
   "display_name": "Python 3 (ipykernel)",
   "language": "python",
   "name": "python3"
  },
  "language_info": {
   "codemirror_mode": {
    "name": "ipython",
    "version": 3
   },
   "file_extension": ".py",
   "mimetype": "text/x-python",
   "name": "python",
   "nbconvert_exporter": "python",
   "pygments_lexer": "ipython3",
   "version": "3.8.0"
  }
 },
 "nbformat": 4,
 "nbformat_minor": 5
}
