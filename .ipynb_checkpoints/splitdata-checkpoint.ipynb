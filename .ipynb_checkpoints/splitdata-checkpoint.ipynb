{
 "cells": [
  {
   "cell_type": "code",
   "execution_count": 2,
   "id": "fe6f7332-e21f-4869-ac8b-7490e2dba398",
   "metadata": {
    "tags": []
   },
   "outputs": [
    {
     "name": "stdout",
     "output_type": "stream",
     "text": [
      "划分完成：训练集 2567 张，验证集 642 张\n"
     ]
    }
   ],
   "source": [
    "import os\n",
    "import random\n",
    "import shutil\n",
    "\n",
    "# 配置路径\n",
    "img_dir = 'yolodata/images/train'\n",
    "label_dir = 'yolodata/labels/train'\n",
    "output_img_train = 'dataset/images/train'\n",
    "output_img_val = 'dataset/images/val'\n",
    "output_label_train = 'dataset/labels/train'\n",
    "output_label_val = 'dataset/labels/val'\n",
    "\n",
    "# 创建目标目录\n",
    "os.makedirs(output_img_train, exist_ok=True)\n",
    "os.makedirs(output_img_val, exist_ok=True)\n",
    "os.makedirs(output_label_train, exist_ok=True)\n",
    "os.makedirs(output_label_val, exist_ok=True)\n",
    "\n",
    "# 获取所有文件名（假设为 .jpg）\n",
    "files = [f for f in os.listdir(img_dir) if f.endswith('.png')]\n",
    "random.shuffle(files)\n",
    "\n",
    "# 分割比例\n",
    "split_ratio = 0.8\n",
    "split_index = int(len(files) * split_ratio)\n",
    "train_files = files[:split_index]\n",
    "val_files = files[split_index:]\n",
    "\n",
    "# 拷贝文件\n",
    "for f in train_files:\n",
    "    shutil.copy(os.path.join(img_dir, f), os.path.join(output_img_train, f))\n",
    "    shutil.copy(os.path.join(label_dir, f.replace('.png', '.txt')), os.path.join(output_label_train, f.replace('.png', '.txt')))\n",
    "\n",
    "for f in val_files:\n",
    "    shutil.copy(os.path.join(img_dir, f), os.path.join(output_img_val, f))\n",
    "    shutil.copy(os.path.join(label_dir, f.replace('.png', '.txt')), os.path.join(output_label_val, f.replace('.png', '.txt')))\n",
    "\n",
    "print(f\"划分完成：训练集 {len(train_files)} 张，验证集 {len(val_files)} 张\")"
   ]
  },
  {
   "cell_type": "code",
   "execution_count": 3,
   "id": "b30bb7b9-c2f9-4374-b923-4592fe002c3e",
   "metadata": {
    "tags": []
   },
   "outputs": [
    {
     "name": "stdout",
     "output_type": "stream",
     "text": [
      "生成完成：dataset/train.txt 包含 2567 张图，dataset/val.txt 包含 642 张图\n"
     ]
    }
   ],
   "source": [
    "import os\n",
    "from glob import glob\n",
    "\n",
    "# 替换为你的路径\n",
    "train_img_dir = 'dataset/images/train'\n",
    "val_img_dir = 'dataset/images/val'\n",
    "\n",
    "# 输出 txt 路径\n",
    "train_txt = 'dataset/train.txt'\n",
    "val_txt = 'dataset/val.txt'\n",
    "\n",
    "# 扫描所有图片\n",
    "train_imgs = sorted(glob(os.path.join(train_img_dir, '*.png')))\n",
    "val_imgs = sorted(glob(os.path.join(val_img_dir, '*.png')))\n",
    "\n",
    "# 写入 txt 文件\n",
    "with open(train_txt, 'w') as f:\n",
    "    for img_path in train_imgs:\n",
    "        f.write(f'{img_path}\\n')\n",
    "\n",
    "with open(val_txt, 'w') as f:\n",
    "    for img_path in val_imgs:\n",
    "        f.write(f'{img_path}\\n')\n",
    "\n",
    "print(f\"生成完成：{train_txt} 包含 {len(train_imgs)} 张图，{val_txt} 包含 {len(val_imgs)} 张图\")"
   ]
  },
  {
   "cell_type": "code",
   "execution_count": null,
   "id": "e49326a5-9ba9-4cd8-9172-998b5a32a67b",
   "metadata": {},
   "outputs": [],
   "source": []
  }
 ],
 "metadata": {
  "kernelspec": {
   "display_name": "Python 3",
   "language": "python",
   "name": "python3"
  },
  "language_info": {
   "codemirror_mode": {
    "name": "ipython",
    "version": 3
   },
   "file_extension": ".py",
   "mimetype": "text/x-python",
   "name": "python",
   "nbconvert_exporter": "python",
   "pygments_lexer": "ipython3",
   "version": "3.10.15"
  }
 },
 "nbformat": 4,
 "nbformat_minor": 5
}
